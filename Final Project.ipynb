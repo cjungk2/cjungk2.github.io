{
 "cells": [
  {
   "cell_type": "markdown",
   "id": "d468b10d",
   "metadata": {},
   "source": [
    "# World Happiness Report, Checkpoint 2"
   ]
  },
  {
   "cell_type": "markdown",
   "id": "52b285e7",
   "metadata": {},
   "source": [
    "## Data Preprocessing"
   ]
  },
  {
   "cell_type": "markdown",
   "id": "d23513e6",
   "metadata": {},
   "source": [
    "### Imports"
   ]
  },
  {
   "cell_type": "code",
   "execution_count": 96,
   "id": "b4e9196c-925f-4fe5-a3bf-6a9d93ba1b6d",
   "metadata": {},
   "outputs": [],
   "source": [
    "import pandas as pd\n",
    "import numpy as np\n",
    "import matplotlib.pyplot as plt\n",
    "from scipy.stats import pearsonr"
   ]
  },
  {
   "cell_type": "markdown",
   "id": "01b51e6f",
   "metadata": {},
   "source": [
    "### Parsing and Organizing"
   ]
  },
  {
   "cell_type": "markdown",
   "id": "673df28b",
   "metadata": {},
   "source": [
    "First, we load in each DataFrame and check their shapes and columns."
   ]
  },
  {
   "cell_type": "code",
   "execution_count": 97,
   "id": "16616552",
   "metadata": {},
   "outputs": [
    {
     "name": "stdout",
     "output_type": "stream",
     "text": [
      "DataFrame for 2015:\n",
      "(158, 12)\n",
      "Index(['Country', 'Region', 'Happiness Rank', 'Happiness Score',\n",
      "       'Standard Error', 'Economy (GDP per Capita)', 'Family',\n",
      "       'Health (Life Expectancy)', 'Freedom', 'Trust (Government Corruption)',\n",
      "       'Generosity', 'Dystopia Residual'],\n",
      "      dtype='object')\n",
      "DataFrame for 2016:\n",
      "(157, 13)\n",
      "Index(['Country', 'Region', 'Happiness Rank', 'Happiness Score',\n",
      "       'Lower Confidence Interval', 'Upper Confidence Interval',\n",
      "       'Economy (GDP per Capita)', 'Family', 'Health (Life Expectancy)',\n",
      "       'Freedom', 'Trust (Government Corruption)', 'Generosity',\n",
      "       'Dystopia Residual'],\n",
      "      dtype='object')\n",
      "DataFrame for 2017:\n",
      "(155, 12)\n",
      "Index(['Country', 'Happiness.Rank', 'Happiness.Score', 'Whisker.high',\n",
      "       'Whisker.low', 'Economy..GDP.per.Capita.', 'Family',\n",
      "       'Health..Life.Expectancy.', 'Freedom', 'Generosity',\n",
      "       'Trust..Government.Corruption.', 'Dystopia.Residual'],\n",
      "      dtype='object')\n",
      "DataFrame for 2018:\n",
      "(156, 9)\n",
      "Index(['Overall rank', 'Country or region', 'Score', 'GDP per capita',\n",
      "       'Social support', 'Healthy life expectancy',\n",
      "       'Freedom to make life choices', 'Generosity',\n",
      "       'Perceptions of corruption'],\n",
      "      dtype='object')\n",
      "DataFrame for 2019:\n",
      "(156, 9)\n",
      "Index(['Overall rank', 'Country or region', 'Score', 'GDP per capita',\n",
      "       'Social support', 'Healthy life expectancy',\n",
      "       'Freedom to make life choices', 'Generosity',\n",
      "       'Perceptions of corruption'],\n",
      "      dtype='object')\n"
     ]
    }
   ],
   "source": [
    "df_2015 = pd.read_csv('2015.csv')\n",
    "df_2016 = pd.read_csv('2016.csv')\n",
    "df_2017 = pd.read_csv('2017.csv')\n",
    "df_2018 = pd.read_csv('2018.csv')\n",
    "df_2019 = pd.read_csv('2019.csv')\n",
    "\n",
    "df_years = [(df_2015, 2015), (df_2016, 2016), (df_2017, 2017), (df_2018, 2018), (df_2019, 2019)]\n",
    "\n",
    "# Check the shape and columns of each DataFrame\n",
    "for df, year in df_years:\n",
    "    print(f\"DataFrame for {year}:\")\n",
    "    print(df.shape)\n",
    "    print(df.columns)"
   ]
  },
  {
   "cell_type": "markdown",
   "id": "e2586d21",
   "metadata": {},
   "source": [
    "We see that the columns are not consistent across each DataFrame, so we need to standardize the columns across the years."
   ]
  },
  {
   "cell_type": "code",
   "execution_count": 98,
   "id": "4d0c5209",
   "metadata": {},
   "outputs": [
    {
     "name": "stdout",
     "output_type": "stream",
     "text": [
      "Duplicates: 0\n"
     ]
    },
    {
     "data": {
      "text/plain": [
       "Country                      0\n",
       "Region                       8\n",
       "Happiness_Score              0\n",
       "GDP_per_Capita               0\n",
       "Social_Support               0\n",
       "Healthy_Life_Expectancy      0\n",
       "Freedom                      0\n",
       "Perceptions_of_Corruption    0\n",
       "Generosity                   1\n",
       "Year                         0\n",
       "dtype: int64"
      ]
     },
     "execution_count": 98,
     "metadata": {},
     "output_type": "execute_result"
    }
   ],
   "source": [
    "new_columns = ['Country', 'Region', 'Happiness_Score', 'GDP_per_Capita',\n",
    "               'Social_Support', 'Healthy_Life_Expectancy', 'Freedom',\n",
    "               'Perceptions_of_Corruption', 'Generosity', 'Year']\n",
    "\n",
    "new_columns_missing_region = ['Country', 'Happiness_Score', 'GDP_per_Capita', \n",
    "                        'Social_Support', 'Healthy_Life_Expectancy', 'Freedom', \n",
    "                        'Perceptions_of_Corruption', 'Generosity', 'Year', 'Region']\n",
    "\n",
    "# 2015\n",
    "df_2015_clean = df_2015[['Country', 'Region', 'Happiness Score', \n",
    "                        'Economy (GDP per Capita)', 'Family', \n",
    "                        'Health (Life Expectancy)', 'Freedom', \n",
    "                        'Trust (Government Corruption)', 'Generosity']].copy()\n",
    "df_2015_clean['Year'] = 2015\n",
    "df_2015_clean.columns = new_columns\n",
    "\n",
    "# 2016\n",
    "df_2016_clean = df_2016[['Country', 'Region', 'Happiness Score', \n",
    "                        'Economy (GDP per Capita)', 'Family', \n",
    "                        'Health (Life Expectancy)', 'Freedom', \n",
    "                        'Trust (Government Corruption)', 'Generosity']].copy()\n",
    "df_2016_clean['Year'] = 2016\n",
    "df_2016_clean.columns = new_columns\n",
    "\n",
    "# 2017\n",
    "df_2017_clean = df_2017[['Country', 'Happiness.Score', \n",
    "                        'Economy..GDP.per.Capita.', 'Family', \n",
    "                        'Health..Life.Expectancy.', 'Freedom', \n",
    "                        'Trust..Government.Corruption.', 'Generosity']].copy()\n",
    "df_2017_clean['Year'] = 2017\n",
    "df_2017_clean['Region'] = pd.NA  # Missing in 2017 dataset\n",
    "df_2017_clean.columns = new_columns_missing_region\n",
    "\n",
    "# 2018\n",
    "df_2018_clean = df_2018[['Country or region', 'Score', \n",
    "                        'GDP per capita', 'Social support', \n",
    "                        'Healthy life expectancy', 'Freedom to make life choices', \n",
    "                        'Generosity', 'Perceptions of corruption']].copy()\n",
    "df_2018_clean['Year'] = 2018\n",
    "df_2018_clean['Region'] = pd.NA  # Missing in 2018 dataset\n",
    "df_2018_clean.columns = new_columns_missing_region\n",
    "\n",
    "# 2019\n",
    "df_2019_clean = df_2019[['Country or region', 'Score', \n",
    "                        'GDP per capita', 'Social support', \n",
    "                        'Healthy life expectancy', 'Freedom to make life choices', \n",
    "                        'Generosity', 'Perceptions of corruption']].copy()\n",
    "df_2019_clean['Year'] = 2019\n",
    "df_2019_clean['Region'] = pd.NA  # Missing in 2019 dataset\n",
    "df_2019_clean.columns = new_columns_missing_region\n",
    "\n",
    "# Combine all datasets\n",
    "happiness_df = pd.concat([df_2015_clean, df_2016_clean, df_2017_clean, \n",
    "                        df_2018_clean, df_2019_clean], ignore_index=True)\n",
    "\n",
    "# Fill missing regions by looking up countries in other years\n",
    "for country in happiness_df[happiness_df['Region'].isna()]['Country'].unique():\n",
    "    region = happiness_df[(happiness_df['Country'] == country) & \n",
    "                         (happiness_df['Region'].notna())]['Region'].unique()\n",
    "    if len(region) > 0:\n",
    "        happiness_df.loc[(happiness_df['Country'] == country) & \n",
    "                        (happiness_df['Region'].isna()), 'Region'] = region[0]\n",
    "\n",
    "# Check for duplicates\n",
    "print(\"Duplicates:\", happiness_df.duplicated().sum())\n",
    "\n",
    "# Check for missing values\n",
    "happiness_df.isna().sum()"
   ]
  },
  {
   "cell_type": "markdown",
   "id": "44af6e52",
   "metadata": {},
   "source": [
    "We see that eight countries are still missing regions, and one country is missing generosity. As a result, we will first identify the missing values, and attempt to fill them in manually."
   ]
  },
  {
   "cell_type": "code",
   "execution_count": 99,
   "id": "04cb8eb8",
   "metadata": {},
   "outputs": [
    {
     "name": "stdout",
     "output_type": "stream",
     "text": [
      "['Western Europe', 'North America', 'Australia and New Zealand', 'Middle East and Northern Africa', 'Latin America and Caribbean', 'Southeastern Asia', 'Central and Eastern Europe', 'Eastern Asia', 'Sub-Saharan Africa', 'Southern Asia', nan]\n"
     ]
    },
    {
     "data": {
      "text/html": [
       "<div>\n",
       "<style scoped>\n",
       "    .dataframe tbody tr th:only-of-type {\n",
       "        vertical-align: middle;\n",
       "    }\n",
       "\n",
       "    .dataframe tbody tr th {\n",
       "        vertical-align: top;\n",
       "    }\n",
       "\n",
       "    .dataframe thead th {\n",
       "        text-align: right;\n",
       "    }\n",
       "</style>\n",
       "<table border=\"1\" class=\"dataframe\">\n",
       "  <thead>\n",
       "    <tr style=\"text-align: right;\">\n",
       "      <th></th>\n",
       "      <th>Country</th>\n",
       "      <th>Region</th>\n",
       "      <th>Generosity</th>\n",
       "      <th>Year</th>\n",
       "    </tr>\n",
       "  </thead>\n",
       "  <tbody>\n",
       "    <tr>\n",
       "      <th>347</th>\n",
       "      <td>Taiwan Province of China</td>\n",
       "      <td>NaN</td>\n",
       "      <td>0.258360</td>\n",
       "      <td>2017</td>\n",
       "    </tr>\n",
       "    <tr>\n",
       "      <th>385</th>\n",
       "      <td>Hong Kong S.A.R., China</td>\n",
       "      <td>NaN</td>\n",
       "      <td>0.374466</td>\n",
       "      <td>2017</td>\n",
       "    </tr>\n",
       "    <tr>\n",
       "      <th>489</th>\n",
       "      <td>United Arab Emirates</td>\n",
       "      <td>Middle East and Northern Africa</td>\n",
       "      <td>NaN</td>\n",
       "      <td>2018</td>\n",
       "    </tr>\n",
       "    <tr>\n",
       "      <th>507</th>\n",
       "      <td>Trinidad &amp; Tobago</td>\n",
       "      <td>NaN</td>\n",
       "      <td>0.019000</td>\n",
       "      <td>2018</td>\n",
       "    </tr>\n",
       "    <tr>\n",
       "      <th>527</th>\n",
       "      <td>Northern Cyprus</td>\n",
       "      <td>NaN</td>\n",
       "      <td>0.154000</td>\n",
       "      <td>2018</td>\n",
       "    </tr>\n",
       "    <tr>\n",
       "      <th>664</th>\n",
       "      <td>Trinidad &amp; Tobago</td>\n",
       "      <td>NaN</td>\n",
       "      <td>0.016000</td>\n",
       "      <td>2019</td>\n",
       "    </tr>\n",
       "    <tr>\n",
       "      <th>689</th>\n",
       "      <td>Northern Cyprus</td>\n",
       "      <td>NaN</td>\n",
       "      <td>0.162000</td>\n",
       "      <td>2019</td>\n",
       "    </tr>\n",
       "    <tr>\n",
       "      <th>709</th>\n",
       "      <td>North Macedonia</td>\n",
       "      <td>NaN</td>\n",
       "      <td>0.034000</td>\n",
       "      <td>2019</td>\n",
       "    </tr>\n",
       "    <tr>\n",
       "      <th>745</th>\n",
       "      <td>Gambia</td>\n",
       "      <td>NaN</td>\n",
       "      <td>0.167000</td>\n",
       "      <td>2019</td>\n",
       "    </tr>\n",
       "  </tbody>\n",
       "</table>\n",
       "</div>"
      ],
      "text/plain": [
       "                      Country                           Region  Generosity  \\\n",
       "347  Taiwan Province of China                              NaN    0.258360   \n",
       "385   Hong Kong S.A.R., China                              NaN    0.374466   \n",
       "489      United Arab Emirates  Middle East and Northern Africa         NaN   \n",
       "507         Trinidad & Tobago                              NaN    0.019000   \n",
       "527           Northern Cyprus                              NaN    0.154000   \n",
       "664         Trinidad & Tobago                              NaN    0.016000   \n",
       "689           Northern Cyprus                              NaN    0.162000   \n",
       "709           North Macedonia                              NaN    0.034000   \n",
       "745                    Gambia                              NaN    0.167000   \n",
       "\n",
       "     Year  \n",
       "347  2017  \n",
       "385  2017  \n",
       "489  2018  \n",
       "507  2018  \n",
       "527  2018  \n",
       "664  2019  \n",
       "689  2019  \n",
       "709  2019  \n",
       "745  2019  "
      ]
     },
     "execution_count": 99,
     "metadata": {},
     "output_type": "execute_result"
    }
   ],
   "source": [
    "# Look at the available regions to fill in for missing values later\n",
    "unique_regions = happiness_df['Region'].unique()\n",
    "print(unique_regions.tolist())\n",
    "\n",
    "missing_values = happiness_df[happiness_df.isna().any(axis=1)]\n",
    "missing_values[['Country', 'Region', 'Generosity', 'Year']]"
   ]
  },
  {
   "cell_type": "markdown",
   "id": "f2050e16",
   "metadata": {},
   "source": [
    "Now that we have identified the missing values, we can manually assign the regions, and for the United Arab Emirates' generosity for 2018, we can use the median generosity based on its region's generosity for 2018."
   ]
  },
  {
   "cell_type": "code",
   "execution_count": 100,
   "metadata": {},
   "outputs": [
    {
     "data": {
      "text/plain": [
       "Country                      0\n",
       "Region                       0\n",
       "Happiness_Score              0\n",
       "GDP_per_Capita               0\n",
       "Social_Support               0\n",
       "Healthy_Life_Expectancy      0\n",
       "Freedom                      0\n",
       "Perceptions_of_Corruption    0\n",
       "Generosity                   0\n",
       "Year                         0\n",
       "dtype: int64"
      ]
     },
     "execution_count": 100,
     "metadata": {},
     "output_type": "execute_result"
    }
   ],
   "source": [
    "# Fill in missing regions\n",
    "happiness_df.loc[\n",
    "    (happiness_df['Country'] == 'Taiwan Province of China') &\n",
    "    (happiness_df['Year'] == 2017), 'Region'\n",
    "] = 'Eastern Asia'\n",
    "\n",
    "happiness_df.loc[\n",
    "    (happiness_df['Country'] == 'Hong Kong S.A.R., China') &\n",
    "    (happiness_df['Year'] == 2017), 'Region'\n",
    "] = 'Eastern Asia'\n",
    "\n",
    "happiness_df.loc[\n",
    "    (happiness_df['Country'] == 'Trinidad & Tobago') &\n",
    "    (happiness_df['Year'] == 2018), 'Region'\n",
    "] = 'Latin America and Caribbean'\n",
    "\n",
    "happiness_df.loc[\n",
    "    (happiness_df['Country'] == 'Northern Cyprus') &\n",
    "    (happiness_df['Year'] == 2018), 'Region'\n",
    "] = 'Middle East and Northern Africa'\n",
    "\n",
    "happiness_df.loc[\n",
    "    (happiness_df['Country'] == 'Trinidad & Tobago') &\n",
    "    (happiness_df['Year'] == 2019), 'Region'\n",
    "] = 'Latin America and Caribbean'\n",
    "\n",
    "happiness_df.loc[\n",
    "    (happiness_df['Country'] == 'Northern Cyprus') &\n",
    "    (happiness_df['Year'] == 2019), 'Region'\n",
    "] = 'Middle East and Northern Africa'\n",
    "\n",
    "happiness_df.loc[\n",
    "    (happiness_df['Country'] == 'North Macedonia') &\n",
    "    (happiness_df['Year'] == 2019), 'Region'\n",
    "] = 'Central and Eastern Europe'\n",
    "\n",
    "happiness_df.loc[\n",
    "    (happiness_df['Country'] == 'Gambia') &\n",
    "    (happiness_df['Year'] == 2019), 'Region'\n",
    "] = 'Sub-Saharan Africa'\n",
    "\n",
    "# Fill in missing generosity with median\n",
    "median_generosity = happiness_df.groupby(['Region', 'Year'])['Generosity'].median()\n",
    "happiness_df.loc[\n",
    "    (happiness_df['Country'] == 'United Arab Emirates') &\n",
    "    (happiness_df['Year'] == 2018), 'Generosity'\n",
    "] = median_generosity.loc['Middle East and Northern Africa', 2018]\n",
    "\n",
    "# Check for missing values again\n",
    "happiness_df.isna().sum()"
   ]
  },
  {
   "cell_type": "markdown",
   "id": "6070f570",
   "metadata": {},
   "source": [
    "## Basic Data Exploration and Summary Statistics"
   ]
  },
  {
   "cell_type": "markdown",
   "id": "7136b0a7",
   "metadata": {},
   "source": [
    "### First Hypothesis"
   ]
  },
  {
   "cell_type": "markdown",
   "id": "7a4156f6",
   "metadata": {},
   "source": [
    "Assume $\\alpha = 0.05$.<br>\n",
    "HO: The GDP per capita does not have an effect on happiness score.<br>\n",
    "HA: The GDP per capita does have an effect on happiness score."
   ]
  },
  {
   "cell_type": "markdown",
   "id": "29594fd2",
   "metadata": {},
   "source": [
    "A visualization of the hypothesis."
   ]
  },
  {
   "cell_type": "code",
   "execution_count": 101,
   "id": "59f4af82",
   "metadata": {},
   "outputs": [
    {
     "data": {
      "image/png": "[encoded data removed]",
      "text/plain": [
       "<Figure size 640x480 with 1 Axes>"
      ]
     },
     "metadata": {},
     "output_type": "display_data"
    }
   ],
   "source": [
    "plt.scatter(happiness_df['GDP_per_Capita'], happiness_df['Happiness_Score'])\n",
    "plt.xlabel('GDP per Capita')\n",
    "plt.ylabel('Happiness Score')\n",
    "plt.title('GDP per Capita vs Happiness Score')\n",
    "plt.show()\n"
   ]
  },
  {
   "cell_type": "markdown",
   "id": "7d5dd356",
   "metadata": {},
   "source": [
    "We will use Pearson's correlation coefficient for this hypothesis test because we are dealing with continuous variables, and our previous scatter plot suggests that there is a linear relationship."
   ]
  },
  {
   "cell_type": "code",
   "execution_count": 93,
   "id": "fa8f062d",
   "metadata": {},
   "outputs": [
    {
     "name": "stdout",
     "output_type": "stream",
     "text": [
      "2.2137878354296676e-167\n"
     ]
    }
   ],
   "source": [
    "result = pearsonr(happiness_df['GDP_per_Capita'], happiness_df['Happiness_Score'])\n",
    "print(result.pvalue)"
   ]
  },
  {
   "cell_type": "markdown",
   "id": "022b6cac",
   "metadata": {},
   "source": [
    "Since the p-value is less than our significance level of 0.05, we reject the null hypothesis, concluding that the GDP per capita does have an effect on happiness score."
   ]
  }
 ],
 "metadata": {
  "kernelspec": {
   "display_name": "Python 3",
   "language": "python",
   "name": "python3"
  },
  "language_info": {
   "codemirror_mode": {
    "name": "ipython",
    "version": 3
   },
   "file_extension": ".py",
   "mimetype": "text/x-python",
   "name": "python",
   "nbconvert_exporter": "python",
   "pygments_lexer": "ipython3",
   "version": "3.10.12"
  }
 },
 "nbformat": 4,
 "nbformat_minor": 5
}
