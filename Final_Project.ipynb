{
 "cells": [
  {
   "cell_type": "markdown",
   "id": "d468b10d",
   "metadata": {
    "id": "d468b10d"
   },
   "source": [
    "# <center>Analysis of Happiness Across the World</center>"
   ]
  },
  {
   "cell_type": "markdown",
   "id": "4be18693",
   "metadata": {},
   "source": [
    "## <center>Spring 2025 Data Science Project</center>"
   ]
  },
  {
   "cell_type": "markdown",
   "id": "3108ee8d",
   "metadata": {},
   "source": [
    "#### Kimber Gonzalez Lopez, Christina Jung, Olade Kounou, Matthew Mueller, Franco Romero"
   ]
  },
  {
   "cell_type": "markdown",
   "id": "c356a878",
   "metadata": {},
   "source": [
    "##### Contributions"
   ]
  },
  {
   "cell_type": "markdown",
   "id": "2808210c",
   "metadata": {},
   "source": [
    "A: Project idea<br>\n",
    "B: Dataset Curation and Preprocessing<br>\n",
    "C: Data Exploration and Summary Statistics<br>\n",
    "D: ML Algorithm Design/Development<br>\n",
    "E: ML Algorithm Training and Test Data Analysis<br>\n",
    "F: Visualization, Result Analysis, Conclusion<br>\n",
    "G: Final Tutorial Report Creation<br>\n",
    "H: Additional (not listed above)\n",
    "- Kimber Gonzalez Lopez\n",
    "    - D: ML Algorithm Design/Development\n",
    "    - E: ML Algorithm Training and Test Data Analysis\n",
    "- Christina Jung\n",
    "    - A: Project Idea\n",
    "    - B: Dataset Curation and Preprocessing\n",
    "    - G: Final Tutorial Report Creation\n",
    "- Olade Kounou\n",
    "    - C: Dataset Exploration and Summary Statistics\n",
    "    - F: Visualization, Result Analysis, Conclusion\n",
    "- Matthew Mueller\n",
    "    - C: Dataset Exploration and Summary Statistics\n",
    "    - F: Visualization, Result Analysis, Conclusion\n",
    "- Franco Romero\n",
    "    - B: Dataset Curation and Preprocessing\n",
    "    - C: Dataset Exploration and Summary Statistics\n",
    "    - G: Final Tutorial Report Creation"
   ]
  },
  {
   "cell_type": "markdown",
   "id": "40ebff13",
   "metadata": {},
   "source": [
    "## Table of Contents\n",
    "- [Introduction](#introduction)\n",
    "- [Data Curation](#data-curation)\n",
    "    - [Source and Explanation](#source-and-explanation)\n",
    "    - [Imports](#imports)\n",
    "    - [Parsing and Organizing](#parsing-and-organizing)\n",
    "- [Exploratory Data Analysis](#exploratory-data-analysis)\n",
    "    - [First Hypothesis](#first-hypothesis)\n",
    "    - [Second Hypothesis](#second-hypothesis)\n",
    "    - [Third Hypothesis](#third-hypothesis)\n",
    "    - [Fourth Hypothesis](#fourth-hypothesis)\n",
    "- [Primary Analysis](#primary-analysis)\n",
    "    - [Feature Engineering](#feature-engineering)\n",
    "    - [Training and Testing Linear Regression Model](#training-and-testing-linear-regression-model)\n",
    "    - [Training and Testing Random Forest Model](#training-and-testing-random-forest-model)\n",
    "        - [Feature Importances](#feature-importances)\n",
    "- [Visualization](#visualization)\n",
    "- [Insights and Conclusions](#insights-and-conclusions)"
   ]
  },
  {
   "cell_type": "markdown",
   "id": "52b285e7",
   "metadata": {
    "id": "52b285e7"
   },
   "source": [
    "## Introduction <a id='introduction'></a>"
   ]
  },
  {
   "cell_type": "markdown",
   "id": "907305dd",
   "metadata": {},
   "source": []
  },
  {
   "cell_type": "markdown",
   "id": "f1f478ba",
   "metadata": {},
   "source": [
    "## Data Curation <a id='data-curation'></a>"
   ]
  },
  {
   "cell_type": "markdown",
   "id": "4616914b",
   "metadata": {},
   "source": [
    "### Source and Explanation <a id='source-and-explanation'></a>"
   ]
  },
  {
   "cell_type": "markdown",
   "id": "c3452e28",
   "metadata": {},
   "source": [
    "We used the [World Happiness Report](https://www.kaggle.com/datasets/unsdsn/world-happiness) dataset. This dataset is based on Gallup World Poll data from 2015 to 2019 from 170 countries, ranking each country by happiness score using the Cantril ladder. The Cantril ladder asks the respondent to rate their current life out of 10 where the best possible life is a 10 and the worst possible life is a 0. The values of each of the six factors (GDP per capita, social support, healthy life expectancy, freedom, perceptions of corruption, and generosity) are estimates of the extent that the given factor contributes to the happiness score. By the end of the parsing and organizing, the columns we are left with are:\n",
    "- Country\n",
    "- Region\n",
    "- Happiness Score\n",
    "- GDP per Capita\n",
    "- Social Support\n",
    "- Healthy Life Expectancy\n",
    "- Freedom\n",
    "- Perceptions of Corruption\n",
    "- Generosity\n",
    "- Year     "
   ]
  },
  {
   "cell_type": "markdown",
   "id": "d23513e6",
   "metadata": {
    "id": "d23513e6"
   },
   "source": [
    "### Imports <a id='imports'></a>"
   ]
  },
  {
   "cell_type": "code",
   "execution_count": 1,
   "id": "b4e9196c-925f-4fe5-a3bf-6a9d93ba1b6d",
   "metadata": {
    "id": "b4e9196c-925f-4fe5-a3bf-6a9d93ba1b6d"
   },
   "outputs": [],
   "source": [
    "import pandas as pd\n",
    "import numpy as np\n",
    "import matplotlib.pyplot as plt\n",
    "import seaborn as sns\n",
    "from scipy.stats import pearsonr, ttest_ind, f_oneway\n",
    "from sklearn.model_selection import train_test_split\n",
    "from sklearn.preprocessing import StandardScaler\n",
    "from sklearn.linear_model import LinearRegression\n",
    "from sklearn.ensemble import RandomForestRegressor\n",
    "from sklearn.metrics import mean_absolute_error, mean_squared_error, r2_score"
   ]
  },
  {
   "cell_type": "markdown",
   "id": "01b51e6f",
   "metadata": {
    "id": "01b51e6f"
   },
   "source": [
    "### Parsing and Organizing <a id='parsing-and-organizing'></a>"
   ]
  },
  {
   "cell_type": "markdown",
   "id": "673df28b",
   "metadata": {
    "id": "673df28b"
   },
   "source": [
    "First, we load in each DataFrame and check their shapes and columns."
   ]
  },
  {
   "cell_type": "code",
   "execution_count": 2,
   "id": "16616552",
   "metadata": {
    "colab": {
     "base_uri": "https://localhost:8080/",
     "height": 0
    },
    "id": "16616552",
    "outputId": "0de2cdad-4274-4c44-bf79-539d4fdf89f3"
   },
   "outputs": [
    {
     "name": "stdout",
     "output_type": "stream",
     "text": [
      "DataFrame for 2015:\n",
      "(158, 12)\n",
      "Index(['Country', 'Region', 'Happiness Rank', 'Happiness Score',\n",
      "       'Standard Error', 'Economy (GDP per Capita)', 'Family',\n",
      "       'Health (Life Expectancy)', 'Freedom', 'Trust (Government Corruption)',\n",
      "       'Generosity', 'Dystopia Residual'],\n",
      "      dtype='object')\n",
      "DataFrame for 2016:\n",
      "(157, 13)\n",
      "Index(['Country', 'Region', 'Happiness Rank', 'Happiness Score',\n",
      "       'Lower Confidence Interval', 'Upper Confidence Interval',\n",
      "       'Economy (GDP per Capita)', 'Family', 'Health (Life Expectancy)',\n",
      "       'Freedom', 'Trust (Government Corruption)', 'Generosity',\n",
      "       'Dystopia Residual'],\n",
      "      dtype='object')\n",
      "DataFrame for 2017:\n",
      "(155, 12)\n",
      "Index(['Country', 'Happiness.Rank', 'Happiness.Score', 'Whisker.high',\n",
      "       'Whisker.low', 'Economy..GDP.per.Capita.', 'Family',\n",
      "       'Health..Life.Expectancy.', 'Freedom', 'Generosity',\n",
      "       'Trust..Government.Corruption.', 'Dystopia.Residual'],\n",
      "      dtype='object')\n",
      "DataFrame for 2018:\n",
      "(156, 9)\n",
      "Index(['Overall rank', 'Country or region', 'Score', 'GDP per capita',\n",
      "       'Social support', 'Healthy life expectancy',\n",
      "       'Freedom to make life choices', 'Generosity',\n",
      "       'Perceptions of corruption'],\n",
      "      dtype='object')\n",
      "DataFrame for 2019:\n",
      "(156, 9)\n",
      "Index(['Overall rank', 'Country or region', 'Score', 'GDP per capita',\n",
      "       'Social support', 'Healthy life expectancy',\n",
      "       'Freedom to make life choices', 'Generosity',\n",
      "       'Perceptions of corruption'],\n",
      "      dtype='object')\n"
     ]
    }
   ],
   "source": [
    "df_2015 = pd.read_csv('2015.csv')\n",
    "df_2016 = pd.read_csv('2016.csv')\n",
    "df_2017 = pd.read_csv('2017.csv')\n",
    "df_2018 = pd.read_csv('2018.csv')\n",
    "df_2019 = pd.read_csv('2019.csv')\n",
    "\n",
    "df_years = [(df_2015, 2015), (df_2016, 2016), (df_2017, 2017), (df_2018, 2018), (df_2019, 2019)]\n",
    "\n",
    "# Check the shape and columns of each DataFrame\n",
    "for df, year in df_years:\n",
    "    print(f\"DataFrame for {year}:\")\n",
    "    print(df.shape)\n",
    "    print(df.columns)"
   ]
  },
  {
   "cell_type": "markdown",
   "id": "e2586d21",
   "metadata": {
    "id": "e2586d21"
   },
   "source": [
    "We see that the columns are not consistent across each DataFrame, so we need to standardize the columns across the years."
   ]
  },
  {
   "cell_type": "code",
   "execution_count": 3,
   "id": "4d0c5209",
   "metadata": {
    "colab": {
     "base_uri": "https://localhost:8080/",
     "height": 416
    },
    "id": "4d0c5209",
    "outputId": "4b1663b5-f269-4b19-c055-8c2473eb0d74"
   },
   "outputs": [
    {
     "name": "stdout",
     "output_type": "stream",
     "text": [
      "Duplicates: 0\n"
     ]
    },
    {
     "data": {
      "text/plain": [
       "Country                      0\n",
       "Region                       8\n",
       "Happiness_Score              0\n",
       "GDP_per_Capita               0\n",
       "Social_Support               0\n",
       "Healthy_Life_Expectancy      0\n",
       "Freedom                      0\n",
       "Perceptions_of_Corruption    0\n",
       "Generosity                   1\n",
       "Year                         0\n",
       "dtype: int64"
      ]
     },
     "execution_count": 3,
     "metadata": {},
     "output_type": "execute_result"
    }
   ],
   "source": [
    "new_columns = ['Country', 'Region', 'Happiness_Score', 'GDP_per_Capita',\n",
    "               'Social_Support', 'Healthy_Life_Expectancy', 'Freedom',\n",
    "               'Perceptions_of_Corruption', 'Generosity', 'Year']\n",
    "\n",
    "new_columns_missing_region = ['Country', 'Happiness_Score', 'GDP_per_Capita',\n",
    "                        'Social_Support', 'Healthy_Life_Expectancy', 'Freedom',\n",
    "                        'Perceptions_of_Corruption', 'Generosity', 'Year', 'Region']\n",
    "\n",
    "# 2015\n",
    "df_2015_clean = df_2015[['Country', 'Region', 'Happiness Score',\n",
    "                        'Economy (GDP per Capita)', 'Family',\n",
    "                        'Health (Life Expectancy)', 'Freedom',\n",
    "                        'Trust (Government Corruption)', 'Generosity']].copy()\n",
    "df_2015_clean['Year'] = 2015\n",
    "df_2015_clean.columns = new_columns\n",
    "\n",
    "# 2016\n",
    "df_2016_clean = df_2016[['Country', 'Region', 'Happiness Score',\n",
    "                        'Economy (GDP per Capita)', 'Family',\n",
    "                        'Health (Life Expectancy)', 'Freedom',\n",
    "                        'Trust (Government Corruption)', 'Generosity']].copy()\n",
    "df_2016_clean['Year'] = 2016\n",
    "df_2016_clean.columns = new_columns\n",
    "\n",
    "# 2017\n",
    "df_2017_clean = df_2017[['Country', 'Happiness.Score',\n",
    "                        'Economy..GDP.per.Capita.', 'Family',\n",
    "                        'Health..Life.Expectancy.', 'Freedom',\n",
    "                        'Trust..Government.Corruption.', 'Generosity']].copy()\n",
    "df_2017_clean['Year'] = 2017\n",
    "df_2017_clean['Region'] = pd.NA  # Missing in 2017 dataset\n",
    "df_2017_clean.columns = new_columns_missing_region\n",
    "\n",
    "# 2018\n",
    "df_2018_clean = df_2018[['Country or region', 'Score',\n",
    "                        'GDP per capita', 'Social support',\n",
    "                        'Healthy life expectancy', 'Freedom to make life choices',\n",
    "                        'Generosity', 'Perceptions of corruption']].copy()\n",
    "df_2018_clean['Year'] = 2018\n",
    "df_2018_clean['Region'] = pd.NA  # Missing in 2018 dataset\n",
    "df_2018_clean.columns = new_columns_missing_region\n",
    "\n",
    "# 2019\n",
    "df_2019_clean = df_2019[['Country or region', 'Score',\n",
    "                        'GDP per capita', 'Social support',\n",
    "                        'Healthy life expectancy', 'Freedom to make life choices',\n",
    "                        'Generosity', 'Perceptions of corruption']].copy()\n",
    "df_2019_clean['Year'] = 2019\n",
    "df_2019_clean['Region'] = pd.NA  # Missing in 2019 dataset\n",
    "df_2019_clean.columns = new_columns_missing_region\n",
    "\n",
    "# Combine all datasets\n",
    "happiness_df = pd.concat([df_2015_clean, df_2016_clean, df_2017_clean,\n",
    "                        df_2018_clean, df_2019_clean], ignore_index=True)\n",
    "\n",
    "# Fill missing regions by looking up countries in other years\n",
    "for country in happiness_df[happiness_df['Region'].isna()]['Country'].unique():\n",
    "    region = happiness_df[(happiness_df['Country'] == country) &\n",
    "                         (happiness_df['Region'].notna())]['Region'].unique()\n",
    "    if len(region) > 0:\n",
    "        happiness_df.loc[(happiness_df['Country'] == country) &\n",
    "                        (happiness_df['Region'].isna()), 'Region'] = region[0]\n",
    "\n",
    "# Check for duplicates\n",
    "print(\"Duplicates:\", happiness_df.duplicated().sum())\n",
    "\n",
    "# Check for missing values\n",
    "happiness_df.isna().sum()"
   ]
  },
  {
   "cell_type": "markdown",
   "id": "44af6e52",
   "metadata": {
    "id": "44af6e52"
   },
   "source": [
    "We see that eight countries are still missing regions, and one country is missing generosity. As a result, we will first identify the missing values, and attempt to fill them in manually."
   ]
  },
  {
   "cell_type": "code",
   "execution_count": 4,
   "id": "04cb8eb8",
   "metadata": {
    "colab": {
     "base_uri": "https://localhost:8080/",
     "height": 369
    },
    "id": "04cb8eb8",
    "outputId": "b2d8aede-e532-4876-ac48-0422c3f7fc94"
   },
   "outputs": [
    {
     "name": "stdout",
     "output_type": "stream",
     "text": [
      "['Western Europe', 'North America', 'Australia and New Zealand', 'Middle East and Northern Africa', 'Latin America and Caribbean', 'Southeastern Asia', 'Central and Eastern Europe', 'Eastern Asia', 'Sub-Saharan Africa', 'Southern Asia', nan]\n"
     ]
    },
    {
     "data": {
      "text/html": [
       "<div>\n",
       "<style scoped>\n",
       "    .dataframe tbody tr th:only-of-type {\n",
       "        vertical-align: middle;\n",
       "    }\n",
       "\n",
       "    .dataframe tbody tr th {\n",
       "        vertical-align: top;\n",
       "    }\n",
       "\n",
       "    .dataframe thead th {\n",
       "        text-align: right;\n",
       "    }\n",
       "</style>\n",
       "<table border=\"1\" class=\"dataframe\">\n",
       "  <thead>\n",
       "    <tr style=\"text-align: right;\">\n",
       "      <th></th>\n",
       "      <th>Country</th>\n",
       "      <th>Region</th>\n",
       "      <th>Generosity</th>\n",
       "      <th>Year</th>\n",
       "    </tr>\n",
       "  </thead>\n",
       "  <tbody>\n",
       "    <tr>\n",
       "      <th>347</th>\n",
       "      <td>Taiwan Province of China</td>\n",
       "      <td>NaN</td>\n",
       "      <td>0.258360</td>\n",
       "      <td>2017</td>\n",
       "    </tr>\n",
       "    <tr>\n",
       "      <th>385</th>\n",
       "      <td>Hong Kong S.A.R., China</td>\n",
       "      <td>NaN</td>\n",
       "      <td>0.374466</td>\n",
       "      <td>2017</td>\n",
       "    </tr>\n",
       "    <tr>\n",
       "      <th>489</th>\n",
       "      <td>United Arab Emirates</td>\n",
       "      <td>Middle East and Northern Africa</td>\n",
       "      <td>NaN</td>\n",
       "      <td>2018</td>\n",
       "    </tr>\n",
       "    <tr>\n",
       "      <th>507</th>\n",
       "      <td>Trinidad &amp; Tobago</td>\n",
       "      <td>NaN</td>\n",
       "      <td>0.019000</td>\n",
       "      <td>2018</td>\n",
       "    </tr>\n",
       "    <tr>\n",
       "      <th>527</th>\n",
       "      <td>Northern Cyprus</td>\n",
       "      <td>NaN</td>\n",
       "      <td>0.154000</td>\n",
       "      <td>2018</td>\n",
       "    </tr>\n",
       "    <tr>\n",
       "      <th>664</th>\n",
       "      <td>Trinidad &amp; Tobago</td>\n",
       "      <td>NaN</td>\n",
       "      <td>0.016000</td>\n",
       "      <td>2019</td>\n",
       "    </tr>\n",
       "    <tr>\n",
       "      <th>689</th>\n",
       "      <td>Northern Cyprus</td>\n",
       "      <td>NaN</td>\n",
       "      <td>0.162000</td>\n",
       "      <td>2019</td>\n",
       "    </tr>\n",
       "    <tr>\n",
       "      <th>709</th>\n",
       "      <td>North Macedonia</td>\n",
       "      <td>NaN</td>\n",
       "      <td>0.034000</td>\n",
       "      <td>2019</td>\n",
       "    </tr>\n",
       "    <tr>\n",
       "      <th>745</th>\n",
       "      <td>Gambia</td>\n",
       "      <td>NaN</td>\n",
       "      <td>0.167000</td>\n",
       "      <td>2019</td>\n",
       "    </tr>\n",
       "  </tbody>\n",
       "</table>\n",
       "</div>"
      ],
      "text/plain": [
       "                      Country                           Region  Generosity  \\\n",
       "347  Taiwan Province of China                              NaN    0.258360   \n",
       "385   Hong Kong S.A.R., China                              NaN    0.374466   \n",
       "489      United Arab Emirates  Middle East and Northern Africa         NaN   \n",
       "507         Trinidad & Tobago                              NaN    0.019000   \n",
       "527           Northern Cyprus                              NaN    0.154000   \n",
       "664         Trinidad & Tobago                              NaN    0.016000   \n",
       "689           Northern Cyprus                              NaN    0.162000   \n",
       "709           North Macedonia                              NaN    0.034000   \n",
       "745                    Gambia                              NaN    0.167000   \n",
       "\n",
       "     Year  \n",
       "347  2017  \n",
       "385  2017  \n",
       "489  2018  \n",
       "507  2018  \n",
       "527  2018  \n",
       "664  2019  \n",
       "689  2019  \n",
       "709  2019  \n",
       "745  2019  "
      ]
     },
     "execution_count": 4,
     "metadata": {},
     "output_type": "execute_result"
    }
   ],
   "source": [
    "# Look at the available regions to fill in for missing values later\n",
    "unique_regions = happiness_df['Region'].unique()\n",
    "print(unique_regions.tolist())\n",
    "\n",
    "missing_values = happiness_df[happiness_df.isna().any(axis=1)]\n",
    "missing_values[['Country', 'Region', 'Generosity', 'Year']]"
   ]
  },
  {
   "cell_type": "markdown",
   "id": "f2050e16",
   "metadata": {
    "id": "f2050e16"
   },
   "source": [
    "Now that we have identified the missing values, we can manually assign the regions, and for the United Arab Emirates' generosity for 2018, we can use the median generosity based on its region's generosity for 2018."
   ]
  },
  {
   "cell_type": "code",
   "execution_count": 5,
   "id": "TOQZuFaMdtl2",
   "metadata": {
    "colab": {
     "base_uri": "https://localhost:8080/",
     "height": 398
    },
    "id": "TOQZuFaMdtl2",
    "outputId": "19ba7123-320b-42e0-ef28-4f67c597dcb0"
   },
   "outputs": [
    {
     "data": {
      "text/plain": [
       "Country                      0\n",
       "Region                       0\n",
       "Happiness_Score              0\n",
       "GDP_per_Capita               0\n",
       "Social_Support               0\n",
       "Healthy_Life_Expectancy      0\n",
       "Freedom                      0\n",
       "Perceptions_of_Corruption    0\n",
       "Generosity                   0\n",
       "Year                         0\n",
       "dtype: int64"
      ]
     },
     "execution_count": 5,
     "metadata": {},
     "output_type": "execute_result"
    }
   ],
   "source": [
    "# Fill in missing regions\n",
    "happiness_df.loc[\n",
    "    (happiness_df['Country'] == 'Taiwan Province of China') &\n",
    "    (happiness_df['Year'] == 2017), 'Region'\n",
    "] = 'Eastern Asia'\n",
    "\n",
    "happiness_df.loc[\n",
    "    (happiness_df['Country'] == 'Hong Kong S.A.R., China') &\n",
    "    (happiness_df['Year'] == 2017), 'Region'\n",
    "] = 'Eastern Asia'\n",
    "\n",
    "happiness_df.loc[\n",
    "    (happiness_df['Country'] == 'Trinidad & Tobago') &\n",
    "    (happiness_df['Year'] == 2018), 'Region'\n",
    "] = 'Latin America and Caribbean'\n",
    "\n",
    "happiness_df.loc[\n",
    "    (happiness_df['Country'] == 'Northern Cyprus') &\n",
    "    (happiness_df['Year'] == 2018), 'Region'\n",
    "] = 'Middle East and Northern Africa'\n",
    "\n",
    "happiness_df.loc[\n",
    "    (happiness_df['Country'] == 'Trinidad & Tobago') &\n",
    "    (happiness_df['Year'] == 2019), 'Region'\n",
    "] = 'Latin America and Caribbean'\n",
    "\n",
    "happiness_df.loc[\n",
    "    (happiness_df['Country'] == 'Northern Cyprus') &\n",
    "    (happiness_df['Year'] == 2019), 'Region'\n",
    "] = 'Middle East and Northern Africa'\n",
    "\n",
    "happiness_df.loc[\n",
    "    (happiness_df['Country'] == 'North Macedonia') &\n",
    "    (happiness_df['Year'] == 2019), 'Region'\n",
    "] = 'Central and Eastern Europe'\n",
    "\n",
    "happiness_df.loc[\n",
    "    (happiness_df['Country'] == 'Gambia') &\n",
    "    (happiness_df['Year'] == 2019), 'Region'\n",
    "] = 'Sub-Saharan Africa'\n",
    "\n",
    "# Fill in missing generosity with median\n",
    "median_generosity = happiness_df.groupby(['Region', 'Year'])['Generosity'].median()\n",
    "happiness_df.loc[\n",
    "    (happiness_df['Country'] == 'United Arab Emirates') &\n",
    "    (happiness_df['Year'] == 2018), 'Generosity'\n",
    "] = median_generosity.loc['Middle East and Northern Africa', 2018]\n",
    "\n",
    "# Check for missing values again\n",
    "happiness_df.isna().sum()"
   ]
  },
  {
   "cell_type": "markdown",
   "id": "f7d80e21",
   "metadata": {},
   "source": [
    "Now that we have cleaned our data, we can take a final look and see what and how much data we are dealing with."
   ]
  },
  {
   "cell_type": "code",
   "execution_count": 6,
   "id": "cf15d01b",
   "metadata": {},
   "outputs": [
    {
     "name": "stdout",
     "output_type": "stream",
     "text": [
      "Country                      170\n",
      "Region                        10\n",
      "Happiness_Score              716\n",
      "GDP_per_Capita               742\n",
      "Social_Support               732\n",
      "Healthy_Life_Expectancy      705\n",
      "Freedom                      697\n",
      "Perceptions_of_Corruption    660\n",
      "Generosity                   639\n",
      "Year                           5\n",
      "dtype: int64\n"
     ]
    },
    {
     "data": {
      "text/html": [
       "<div>\n",
       "<style scoped>\n",
       "    .dataframe tbody tr th:only-of-type {\n",
       "        vertical-align: middle;\n",
       "    }\n",
       "\n",
       "    .dataframe tbody tr th {\n",
       "        vertical-align: top;\n",
       "    }\n",
       "\n",
       "    .dataframe thead th {\n",
       "        text-align: right;\n",
       "    }\n",
       "</style>\n",
       "<table border=\"1\" class=\"dataframe\">\n",
       "  <thead>\n",
       "    <tr style=\"text-align: right;\">\n",
       "      <th></th>\n",
       "      <th>Country</th>\n",
       "      <th>Region</th>\n",
       "      <th>Happiness_Score</th>\n",
       "      <th>GDP_per_Capita</th>\n",
       "      <th>Social_Support</th>\n",
       "      <th>Healthy_Life_Expectancy</th>\n",
       "      <th>Freedom</th>\n",
       "      <th>Perceptions_of_Corruption</th>\n",
       "      <th>Generosity</th>\n",
       "      <th>Year</th>\n",
       "    </tr>\n",
       "  </thead>\n",
       "  <tbody>\n",
       "    <tr>\n",
       "      <th>0</th>\n",
       "      <td>Switzerland</td>\n",
       "      <td>Western Europe</td>\n",
       "      <td>7.587</td>\n",
       "      <td>1.39651</td>\n",
       "      <td>1.34951</td>\n",
       "      <td>0.94143</td>\n",
       "      <td>0.66557</td>\n",
       "      <td>0.41978</td>\n",
       "      <td>0.29678</td>\n",
       "      <td>2015</td>\n",
       "    </tr>\n",
       "    <tr>\n",
       "      <th>1</th>\n",
       "      <td>Iceland</td>\n",
       "      <td>Western Europe</td>\n",
       "      <td>7.561</td>\n",
       "      <td>1.30232</td>\n",
       "      <td>1.40223</td>\n",
       "      <td>0.94784</td>\n",
       "      <td>0.62877</td>\n",
       "      <td>0.14145</td>\n",
       "      <td>0.43630</td>\n",
       "      <td>2015</td>\n",
       "    </tr>\n",
       "    <tr>\n",
       "      <th>2</th>\n",
       "      <td>Denmark</td>\n",
       "      <td>Western Europe</td>\n",
       "      <td>7.527</td>\n",
       "      <td>1.32548</td>\n",
       "      <td>1.36058</td>\n",
       "      <td>0.87464</td>\n",
       "      <td>0.64938</td>\n",
       "      <td>0.48357</td>\n",
       "      <td>0.34139</td>\n",
       "      <td>2015</td>\n",
       "    </tr>\n",
       "    <tr>\n",
       "      <th>3</th>\n",
       "      <td>Norway</td>\n",
       "      <td>Western Europe</td>\n",
       "      <td>7.522</td>\n",
       "      <td>1.45900</td>\n",
       "      <td>1.33095</td>\n",
       "      <td>0.88521</td>\n",
       "      <td>0.66973</td>\n",
       "      <td>0.36503</td>\n",
       "      <td>0.34699</td>\n",
       "      <td>2015</td>\n",
       "    </tr>\n",
       "    <tr>\n",
       "      <th>4</th>\n",
       "      <td>Canada</td>\n",
       "      <td>North America</td>\n",
       "      <td>7.427</td>\n",
       "      <td>1.32629</td>\n",
       "      <td>1.32261</td>\n",
       "      <td>0.90563</td>\n",
       "      <td>0.63297</td>\n",
       "      <td>0.32957</td>\n",
       "      <td>0.45811</td>\n",
       "      <td>2015</td>\n",
       "    </tr>\n",
       "  </tbody>\n",
       "</table>\n",
       "</div>"
      ],
      "text/plain": [
       "       Country          Region  Happiness_Score  GDP_per_Capita  \\\n",
       "0  Switzerland  Western Europe            7.587         1.39651   \n",
       "1      Iceland  Western Europe            7.561         1.30232   \n",
       "2      Denmark  Western Europe            7.527         1.32548   \n",
       "3       Norway  Western Europe            7.522         1.45900   \n",
       "4       Canada   North America            7.427         1.32629   \n",
       "\n",
       "   Social_Support  Healthy_Life_Expectancy  Freedom  \\\n",
       "0         1.34951                  0.94143  0.66557   \n",
       "1         1.40223                  0.94784  0.62877   \n",
       "2         1.36058                  0.87464  0.64938   \n",
       "3         1.33095                  0.88521  0.66973   \n",
       "4         1.32261                  0.90563  0.63297   \n",
       "\n",
       "   Perceptions_of_Corruption  Generosity  Year  \n",
       "0                    0.41978     0.29678  2015  \n",
       "1                    0.14145     0.43630  2015  \n",
       "2                    0.48357     0.34139  2015  \n",
       "3                    0.36503     0.34699  2015  \n",
       "4                    0.32957     0.45811  2015  "
      ]
     },
     "execution_count": 6,
     "metadata": {},
     "output_type": "execute_result"
    }
   ],
   "source": [
    "print(happiness_df.nunique())\n",
    "happiness_df.head()"
   ]
  },
  {
   "cell_type": "markdown",
   "id": "6070f570",
   "metadata": {
    "id": "6070f570"
   },
   "source": [
    "## Exploratory Data Analysis <a id='exploratory-data-analysis'></a>"
   ]
  },
  {
   "cell_type": "markdown",
   "id": "7136b0a7",
   "metadata": {
    "id": "7136b0a7"
   },
   "source": [
    "### First Hypothesis (Correlation Between GDP per Capita and Happiness Score) <a id='first-hypothesis'></a>"
   ]
  },
  {
   "cell_type": "markdown",
   "id": "7a4156f6",
   "metadata": {
    "id": "7a4156f6"
   },
   "source": [
    "Assume $\\alpha = 0.05$.<br>\n",
    "HO: The GDP per Capita does not have an effect on happiness score.<br>\n",
    "HA: The GDP per Capita does have an effect on happiness score."
   ]
  },
  {
   "cell_type": "markdown",
   "id": "29594fd2",
   "metadata": {
    "id": "29594fd2"
   },
   "source": [
    "A visualization of the hypothesis."
   ]
  },
  {
   "cell_type": "code",
   "execution_count": 7,
   "id": "59f4af82",
   "metadata": {
    "colab": {
     "base_uri": "https://localhost:8080/",
     "height": 472
    },
    "id": "59f4af82",
    "outputId": "30d2d686-6046-4e3e-9f56-a063773c22a3"
   },
   "outputs": [
    {
     "data": {
      "image/png": "[encoded data removed]",
      "text/plain": [
       "<Figure size 640x480 with 1 Axes>"
      ]
     },
     "metadata": {},
     "output_type": "display_data"
    }
   ],
   "source": [
    "plt.scatter(happiness_df['GDP_per_Capita'], happiness_df['Happiness_Score'])\n",
    "plt.xlabel('GDP per Capita')\n",
    "plt.ylabel('Happiness Score')\n",
    "plt.title('GDP per Capita vs Happiness Score')\n",
    "plt.show()\n"
   ]
  },
  {
   "cell_type": "markdown",
   "id": "7d5dd356",
   "metadata": {
    "id": "7d5dd356"
   },
   "source": [
    "We will use Pearson's correlation coefficient for this hypothesis test because we are dealing with continuous variables, and our previous scatter plot suggests that there is a linear relationship."
   ]
  },
  {
   "cell_type": "code",
   "execution_count": 8,
   "id": "fa8f062d",
   "metadata": {
    "id": "fa8f062d",
    "outputId": "43539fe6-4ba4-4d56-8d6d-04a460b06670"
   },
   "outputs": [
    {
     "name": "stdout",
     "output_type": "stream",
     "text": [
      "P-value: 2.2137878354296676e-167\n"
     ]
    }
   ],
   "source": [
    "result = pearsonr(happiness_df['GDP_per_Capita'], happiness_df['Happiness_Score'])\n",
    "print(f'P-value: {result.pvalue}')"
   ]
  },
  {
   "cell_type": "markdown",
   "id": "022b6cac",
   "metadata": {
    "id": "022b6cac"
   },
   "source": [
    "Since the p-value is less than our significance level of 0.05, we reject the null hypothesis, concluding that the GDP per Capita does have an effect on happiness score."
   ]
  },
  {
   "cell_type": "markdown",
   "id": "hnzVwBaYgLO8",
   "metadata": {
    "id": "hnzVwBaYgLO8"
   },
   "source": [
    "### Second Hypothesis (Correlation between Social Support and Happiness Score (2019)) <a id='second-hypothesis'></a>"
   ]
  },
  {
   "cell_type": "markdown",
   "id": "9w4GEoh4hepc",
   "metadata": {
    "id": "9w4GEoh4hepc"
   },
   "source": [
    "Assume $\\alpha = 0.05$.<br>\n",
    "HO: There is no linear relationship between Social Support and Happiness Score (r = 0).<br>\n",
    "HA: There is a linear relationship between Social Support and Happiness Score (r ≠ 0)."
   ]
  },
  {
   "cell_type": "code",
   "execution_count": 9,
   "id": "oCThyjTEhkb4",
   "metadata": {
    "colab": {
     "base_uri": "https://localhost:8080/"
    },
    "id": "oCThyjTEhkb4",
    "outputId": "8229b379-bf59-47cb-9024-a137afe3c784"
   },
   "outputs": [
    {
     "name": "stdout",
     "output_type": "stream",
     "text": [
      "Pearson correlation coefficient (r): 0.7770577880638644\n",
      "P-value: 8.975119655182571e-33\n"
     ]
    }
   ],
   "source": [
    "data_2019 = happiness_df[happiness_df['Year'] == 2019]\n",
    "x = data_2019['Social_Support']\n",
    "y = data_2019['Happiness_Score']\n",
    "\n",
    "r_value, p_value = pearsonr(x, y)\n",
    "\n",
    "print(\"Pearson correlation coefficient (r):\", r_value)\n",
    "print(\"P-value:\", p_value)\n"
   ]
  },
  {
   "cell_type": "markdown",
   "id": "zM-P_f8vj66_",
   "metadata": {
    "id": "zM-P_f8vj66_"
   },
   "source": [
    "Since the p-value is less than our significance level of 0.05, we reject the null hypothesis, concluding that the Social Support does have an effect on happiness score."
   ]
  },
  {
   "cell_type": "code",
   "execution_count": 10,
   "id": "TKPdVlHMjW1L",
   "metadata": {
    "colab": {
     "base_uri": "https://localhost:8080/",
     "height": 472
    },
    "id": "TKPdVlHMjW1L",
    "outputId": "6ea96620-dafc-4dc8-c56b-72a104617654"
   },
   "outputs": [
    {
     "data": {
      "image/png": "[encoded data removed]",
      "text/plain": [
       "<Figure size 640x480 with 1 Axes>"
      ]
     },
     "metadata": {},
     "output_type": "display_data"
    }
   ],
   "source": [
    "plt.figure()\n",
    "sns.regplot(x='Social_Support', y='Happiness_Score', data=data_2019,\n",
    "            scatter_kws={'s':50, 'alpha':0.7}, line_kws={'color':'red'})\n",
    "plt.xlabel('Social Support')\n",
    "plt.ylabel('Happiness Score')\n",
    "plt.title('Relationship between Social Support and Happiness Score (2019)')\n",
    "plt.show()"
   ]
  },
  {
   "cell_type": "markdown",
   "id": "pa05eCoCkuVV",
   "metadata": {
    "id": "pa05eCoCkuVV"
   },
   "source": [
    "### Third Hypothesis (Comparing Happiness Score between 2015 and 2019 (two sample t-test)) <a id='third-hypothesis'></a>"
   ]
  },
  {
   "cell_type": "markdown",
   "id": "gNOYNQgWmST2",
   "metadata": {
    "id": "gNOYNQgWmST2"
   },
   "source": [
    "Assume $\\alpha = 0.05$.<br>\n",
    "HO: The mean Happiness Score in 2019 is equal to that in 2015. <br>\n",
    "HA: The mean Happiness Score in 2019 is not equal to that in 2015."
   ]
  },
  {
   "cell_type": "code",
   "execution_count": 11,
   "id": "kNPoVovXk34Z",
   "metadata": {
    "colab": {
     "base_uri": "https://localhost:8080/"
    },
    "id": "kNPoVovXk34Z",
    "outputId": "84a28d12-2a52-4e2c-b213-d92a58431ee6"
   },
   "outputs": [
    {
     "name": "stdout",
     "output_type": "stream",
     "text": [
      "Hypothesis Test: Comparing Happiness Score (2019 vs 2015)\n",
      "Null Hypothesis (H0): μ_2019 = μ_2015\n",
      "Alternative Hypothesis (H1): μ_2019 ≠ μ_2015\n",
      "T-statistic: 0.24609696456854885\n",
      "P-value: 0.8057690323213097\n",
      "Result: Fail to reject H0. There is no statistically significant difference in Happiness Scores between 2019 and 2015.\n"
     ]
    }
   ],
   "source": [
    "data_2015 = happiness_df[happiness_df['Year'] == 2015]['Happiness_Score'].dropna()\n",
    "data_2019 = happiness_df[happiness_df['Year'] == 2019]['Happiness_Score'].dropna()\n",
    "\n",
    "t_stat, p_val = ttest_ind(data_2019, data_2015, equal_var=False)\n",
    "\n",
    "print(\"Hypothesis Test: Comparing Happiness Score (2019 vs 2015)\")\n",
    "print(\"Null Hypothesis (H0): μ_2019 = μ_2015\")\n",
    "print(\"Alternative Hypothesis (H1): μ_2019 ≠ μ_2015\")\n",
    "print(\"T-statistic:\", t_stat)\n",
    "print(\"P-value:\", p_val)\n",
    "\n",
    "if p_val < 0.05:\n",
    "    print(\"Result: Reject H0. There is a statistically significant difference in Happiness Scores between 2019 and 2015.\")\n",
    "else:\n",
    "    print(\"Result: Fail to reject H0. There is no statistically significant difference in Happiness Scores between 2019 and 2015.\")"
   ]
  },
  {
   "cell_type": "code",
   "execution_count": 12,
   "id": "tJlX7EFrnA2R",
   "metadata": {
    "colab": {
     "base_uri": "https://localhost:8080/",
     "height": 472
    },
    "id": "tJlX7EFrnA2R",
    "outputId": "0d1a5c50-0a01-4c2a-e443-5906d45a1e50"
   },
   "outputs": [
    {
     "data": {
      "image/png": "[encoded data removed]",
      "text/plain": [
       "<Figure size 640x480 with 1 Axes>"
      ]
     },
     "metadata": {},
     "output_type": "display_data"
    }
   ],
   "source": [
    "plt.figure()\n",
    "sns.boxplot(x='Year', y='Happiness_Score', data=happiness_df[happiness_df['Year'].isin([2015, 2019])],\n",
    "            hue='Year', palette='Set2')\n",
    "plt.xlabel('Year')\n",
    "plt.ylabel('Happiness Score')\n",
    "plt.title('Happiness Score: 2015 vs 2019')\n",
    "plt.legend([], [], frameon=False)\n",
    "plt.show()"
   ]
  },
  {
   "cell_type": "markdown",
   "id": "a6eb670b-dc72-408b-90d9-a08bc0a0cacb",
   "metadata": {},
   "source": [
    "### Fourth Hypothesis (Effect of Region on Happiness Score) <a id='fourth-hypothesis'></a>"
   ]
  },
  {
   "cell_type": "markdown",
   "id": "04068eb2-a4ad-4c44-9544-710467b2082f",
   "metadata": {},
   "source": [
    "Assume $\\alpha = 0.05$.<br>\n",
    "HO: Does region not have an effect on the happiness score of a country.<br>\n",
    "HA: Region does have an effect on the happiness score of a country."
   ]
  },
  {
   "cell_type": "code",
   "execution_count": 13,
   "id": "215d1db4-5fcd-487f-8431-7de820305ad3",
   "metadata": {},
   "outputs": [
    {
     "data": {
      "image/png": "[encoded data removed]",
      "text/plain": [
       "<Figure size 640x480 with 1 Axes>"
      ]
     },
     "metadata": {},
     "output_type": "display_data"
    }
   ],
   "source": [
    "# First we split the countries by region\n",
    "regions = []\n",
    "mean_happiness_scores = []\n",
    "raw_data = []\n",
    "groups = happiness_df.groupby('Region')\n",
    "# Then we calculate the mean happiness score per region\n",
    "for (name, group_df) in groups:\n",
    "    regions.append(name)\n",
    "    raw_data.append(group_df['Happiness_Score'].values)\n",
    "    mean_happiness_scores.append(group_df['Happiness_Score'].mean())\n",
    "# Finally, we plot the results in a bar chart\n",
    "plt.bar(regions, mean_happiness_scores)\n",
    "plt.title('Happiness Scores by Region')\n",
    "plt.xlabel('Regions')\n",
    "plt.ylabel('Average Happiness Score')\n",
    "plt.xticks(rotation=30, ha='right')  # Rotate and align right\n",
    "plt.tight_layout()  # Prevent labels from getting cut off\n",
    "plt.show()"
   ]
  },
  {
   "cell_type": "markdown",
   "id": "1d219cd4-c997-407b-b625-a48f1f44f85f",
   "metadata": {},
   "source": [
    "Visually, it looks like the regions make a difference. Let us do an ANOVA test to make sure."
   ]
  },
  {
   "cell_type": "code",
   "execution_count": 14,
   "id": "3fed8897-e5b7-497f-8a78-7234706ae07f",
   "metadata": {},
   "outputs": [
    {
     "name": "stdout",
     "output_type": "stream",
     "text": [
      "P value: 9.82996034149784e-155\n"
     ]
    }
   ],
   "source": [
    "statistic, p_val = f_oneway(*raw_data)\n",
    "print(\"P value: \" + str(p_val))"
   ]
  },
  {
   "cell_type": "markdown",
   "id": "6dd80565-bcd1-47a0-b286-b07fd192afc7",
   "metadata": {},
   "source": [
    "Since our p-value is less than 0.05, our One-Way ANOVA test confirms that region affects happiness score. Therefore we must reject our null hypothesis."
   ]
  },
  {
   "cell_type": "markdown",
   "id": "5baf0520",
   "metadata": {},
   "source": [
    "## Primary Analysis <a id='primary-analysis'></a>"
   ]
  },
  {
   "cell_type": "markdown",
   "id": "d1b1d8d2",
   "metadata": {},
   "source": [
    "### Feature Engineering <a id='feature-engineering'></a>"
   ]
  },
  {
   "cell_type": "markdown",
   "id": "48fe082b",
   "metadata": {},
   "source": [
    "Prepare the data for machine learning techniques such as linear regression and random forest.\n",
    "\n",
    "Also, splitting the data into training and testing data sets to test the accuracy of our model."
   ]
  },
  {
   "cell_type": "code",
   "execution_count": 15,
   "id": "4807537d",
   "metadata": {},
   "outputs": [
    {
     "name": "stdout",
     "output_type": "stream",
     "text": [
      "Feature columns:\n",
      "['GDP_per_Capita', 'Social_Support', 'Healthy_Life_Expectancy', 'Freedom', 'Perceptions_of_Corruption', 'Generosity', 'Region_Central and Eastern Europe', 'Region_Eastern Asia', 'Region_Latin America and Caribbean', 'Region_Middle East and Northern Africa', 'Region_North America', 'Region_Southeastern Asia', 'Region_Southern Asia', 'Region_Sub-Saharan Africa', 'Region_Western Europe'] \n",
      "\n",
      "First 5 rows of scaled training features:\n",
      "   GDP_per_Capita  Social_Support  Healthy_Life_Expectancy   Freedom  \\\n",
      "0       -1.075712       -0.568918                -0.447769  0.046392   \n",
      "1        0.362273       -0.508105                -0.707334 -0.585920   \n",
      "2       -1.349629       -0.227789                -0.784352  0.079668   \n",
      "3       -1.559257       -1.839905                -0.956361 -1.763833   \n",
      "4        0.861324        0.444633                 1.711294 -0.024683   \n",
      "\n",
      "   Perceptions_of_Corruption  Generosity  Region_Central and Eastern Europe  \\\n",
      "0                   1.099725   -0.309965                          -0.479911   \n",
      "1                  -0.415195   -0.909015                          -0.479911   \n",
      "2                  -0.897137    1.426959                          -0.479911   \n",
      "3                  -0.744167    0.248174                          -0.479911   \n",
      "4                   0.310561   -1.115998                          -0.479911   \n",
      "\n",
      "   Region_Eastern Asia  Region_Latin America and Caribbean  \\\n",
      "0            -0.204124                           -0.404813   \n",
      "1            -0.204124                           -0.404813   \n",
      "2            -0.204124                           -0.404813   \n",
      "3            -0.204124                           -0.404813   \n",
      "4            -0.204124                           -0.404813   \n",
      "\n",
      "   Region_Middle East and Northern Africa  Region_North America  \\\n",
      "0                               -0.374848             -0.120873   \n",
      "1                               -0.374848             -0.120873   \n",
      "2                               -0.374848             -0.120873   \n",
      "3                               -0.374848             -0.120873   \n",
      "4                               -0.374848             -0.120873   \n",
      "\n",
      "   Region_Southeastern Asia  Region_Southern Asia  Region_Sub-Saharan Africa  \\\n",
      "0                   -0.2361             -0.220585                   1.733900   \n",
      "1                   -0.2361             -0.220585                   1.733900   \n",
      "2                   -0.2361             -0.220585                   1.733900   \n",
      "3                   -0.2361             -0.220585                   1.733900   \n",
      "4                   -0.2361             -0.220585                  -0.576734   \n",
      "\n",
      "   Region_Western Europe  \n",
      "0              -0.385872  \n",
      "1              -0.385872  \n",
      "2              -0.385872  \n",
      "3              -0.385872  \n",
      "4               2.591534   \n",
      "\n"
     ]
    }
   ],
   "source": [
    "# Feature selection, one-hot encoding for the regions\n",
    "df = pd.get_dummies(happiness_df.drop(columns=['Country', 'Year']), columns=['Region'], drop_first=True)\n",
    "\n",
    "# Define feature and target\n",
    "X = df.drop(columns=['Happiness_Score'])\n",
    "y = df['Happiness_Score']\n",
    "\n",
    "print(\"Feature columns:\")\n",
    "print(list(X.columns), \"\\n\")\n",
    "\n",
    "X_train, X_test, y_train, y_test = train_test_split(X, y, test_size=0.2)\n",
    "\n",
    "# Feature transformation - Scaling\n",
    "scaler = StandardScaler()\n",
    "X_train_scaled = scaler.fit_transform(X_train)\n",
    "X_test_scaled = scaler.transform(X_test)\n",
    "\n",
    "X_train_scaled_df = pd.DataFrame(X_train_scaled, columns=X.columns)\n",
    "print(\"First 5 rows of scaled training features:\")\n",
    "print(X_train_scaled_df.head(), \"\\n\")"
   ]
  },
  {
   "cell_type": "markdown",
   "id": "96a27c59",
   "metadata": {},
   "source": [
    "### Training and Testing Linear Regression Model <a id='training-and-testing-linear-regression-model'></a>"
   ]
  },
  {
   "cell_type": "markdown",
   "id": "019bc287",
   "metadata": {},
   "source": [
    "Training the regression model and then testing on the unseen data. Using R-Squared, mean absolute error, and mean squared error."
   ]
  },
  {
   "cell_type": "code",
   "execution_count": 16,
   "id": "373f095c",
   "metadata": {},
   "outputs": [
    {
     "name": "stdout",
     "output_type": "stream",
     "text": [
      "R-Squared Score: 0.8087\n",
      "Mean Absolute Error: 0.3559\n",
      "Mean Squared Error: 0.2107\n"
     ]
    }
   ],
   "source": [
    "linear_regression = LinearRegression()\n",
    "linear_regression.fit(X_train_scaled, y_train)\n",
    "linear_y_pred = linear_regression.predict(X_test_scaled)\n",
    "\n",
    "print(\"R-Squared Score:\", round(r2_score(y_test, linear_y_pred), 4))\n",
    "print(\"Mean Absolute Error:\", round(mean_absolute_error(y_test, linear_y_pred), 4))\n",
    "print(\"Mean Squared Error:\", round(mean_squared_error(y_test, linear_y_pred), 4))"
   ]
  },
  {
   "cell_type": "markdown",
   "id": "5414890c",
   "metadata": {},
   "source": [
    "### Training and Testing Random Forest Model <a id='training-and-testing-random-forest-model'></a>"
   ]
  },
  {
   "cell_type": "code",
   "execution_count": 17,
   "id": "439c9299",
   "metadata": {},
   "outputs": [
    {
     "name": "stdout",
     "output_type": "stream",
     "text": [
      "Random Forest Regressor Evaluation:\n",
      "R-Squared Score: 0.8252\n",
      "Mean Absolute Error: 0.3273\n",
      "Mean Squared Error: 0.1925\n"
     ]
    }
   ],
   "source": [
    "random_forest = RandomForestRegressor()\n",
    "random_forest.fit(X_train, y_train) \n",
    "random_forest_y_pred = random_forest.predict(X_test)\n",
    "\n",
    "print(\"Random Forest Regressor Evaluation:\")\n",
    "print(\"R-Squared Score:\", round(r2_score(y_test, random_forest_y_pred), 4))\n",
    "print(\"Mean Absolute Error:\", round(mean_absolute_error(y_test, random_forest_y_pred), 4))\n",
    "print(\"Mean Squared Error:\", round(mean_squared_error(y_test, random_forest_y_pred), 4))"
   ]
  },
  {
   "cell_type": "markdown",
   "id": "00018d0f",
   "metadata": {},
   "source": [
    "#### Feature Importances <a id='feature-importances'></a>"
   ]
  },
  {
   "cell_type": "code",
   "execution_count": 18,
   "id": "775d1175",
   "metadata": {},
   "outputs": [
    {
     "name": "stdout",
     "output_type": "stream",
     "text": [
      "Top Features Driving Happiness Predictions:\n",
      "                                   Feature  Importance\n",
      "0                           GDP_per_Capita    0.550767\n",
      "2                  Healthy_Life_Expectancy    0.139495\n",
      "3                                  Freedom    0.111161\n",
      "1                           Social_Support    0.053171\n",
      "8       Region_Latin America and Caribbean    0.051144\n",
      "5                               Generosity    0.036696\n",
      "4                Perceptions_of_Corruption    0.033180\n",
      "7                      Region_Eastern Asia    0.007753\n",
      "13               Region_Sub-Saharan Africa    0.005236\n",
      "9   Region_Middle East and Northern Africa    0.003461\n",
      "6        Region_Central and Eastern Europe    0.003157\n",
      "12                    Region_Southern Asia    0.002790\n",
      "11                Region_Southeastern Asia    0.000934\n",
      "14                   Region_Western Europe    0.000910\n",
      "10                    Region_North America    0.000145\n"
     ]
    }
   ],
   "source": [
    "# Get feature importances\n",
    "importances = random_forest.feature_importances_\n",
    "feature_names = X.columns\n",
    "feature_importance_df = pd.DataFrame({\n",
    "    'Feature': feature_names,\n",
    "    'Importance': importances\n",
    "}).sort_values(by='Importance', ascending=False)\n",
    "\n",
    "print(\"Top Features Driving Happiness Predictions:\")\n",
    "print(feature_importance_df)"
   ]
  },
  {
   "cell_type": "markdown",
   "id": "38bd490c",
   "metadata": {},
   "source": [
    "## Visualization <a id='visualization'></a>"
   ]
  },
  {
   "cell_type": "markdown",
   "id": "57b6961b",
   "metadata": {},
   "source": []
  },
  {
   "cell_type": "markdown",
   "id": "adce2ace",
   "metadata": {},
   "source": [
    "## Insights and Conclusions <a id='insights-and-conclusions'></a>"
   ]
  },
  {
   "cell_type": "markdown",
   "id": "1ba0db60",
   "metadata": {},
   "source": []
  }
 ],
 "metadata": {
  "colab": {
   "provenance": []
  },
  "kernelspec": {
   "display_name": "Python 3",
   "language": "python",
   "name": "python3"
  },
  "language_info": {
   "codemirror_mode": {
    "name": "ipython",
    "version": 3
   },
   "file_extension": ".py",
   "mimetype": "text/x-python",
   "name": "python",
   "nbconvert_exporter": "python",
   "pygments_lexer": "ipython3",
   "version": "3.10.12"
  }
 },
 "nbformat": 4,
 "nbformat_minor": 5
}
